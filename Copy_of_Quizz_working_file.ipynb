{
  "nbformat": 4,
  "nbformat_minor": 0,
  "metadata": {
    "colab": {
      "provenance": [],
      "include_colab_link": true
    },
    "kernelspec": {
      "name": "python3",
      "display_name": "Python 3"
    },
    "language_info": {
      "name": "python"
    }
  },
  "cells": [
    {
      "cell_type": "markdown",
      "metadata": {
        "id": "view-in-github",
        "colab_type": "text"
      },
      "source": [
        "<a href=\"https://colab.research.google.com/github/LudwigNils/Portfolio-Nils-Ludwig/blob/main/Copy_of_Quizz_working_file.ipynb\" target=\"_parent\"><img src=\"https://colab.research.google.com/assets/colab-badge.svg\" alt=\"Open In Colab\"/></a>"
      ]
    },
    {
      "cell_type": "markdown",
      "source": [
        "**Welcome page**\n",
        "\n",
        "*Pls add text here*"
      ],
      "metadata": {
        "id": "lH0yreSVy0th"
      }
    },
    {
      "cell_type": "markdown",
      "source": [
        "**Instructions for the user**\n",
        "\n",
        "\n",
        "Pls add text here"
      ],
      "metadata": {
        "id": "JqwnDmTJyAvo"
      }
    },
    {
      "cell_type": "markdown",
      "source": [
        "**Login page**\n",
        "Login page structure - \n",
        "\n",
        "1. some greetings to the user \n",
        "\n",
        "2. Ask - is player a new user or has played before. Use smth like 'enter 0 if you are a new user or 1 if you have already played Quize before'. Add an Error message for occasional input smth not 1 or 0.\n",
        "\n",
        "3. For new user - ask for the nick, and store the input in user DB\n",
        "\n",
        "4. For repeated user - ask for the nick to login and show her/his best variant from previous games"
      ],
      "metadata": {
        "id": "mMuxJnaWypKa"
      }
    },
    {
      "cell_type": "code",
      "source": [],
      "metadata": {
        "id": "rfkMbV_I7aQu"
      },
      "execution_count": null,
      "outputs": []
    },
    {
      "cell_type": "markdown",
      "source": [
        "\n",
        "**Timer for 30s here**   https://asiakan.atlassian.net/browse/QUIZ-5\n",
        "\n"
      ],
      "metadata": {
        "id": "U2IN1CtQ7dHm"
      }
    },
    {
      "cell_type": "code",
      "source": [
        "\t\n",
        "import time\n",
        "import datetime\n",
        " \n",
        "# Create class that acts as a countdown\n",
        "def countdown(s):\n",
        " \n",
        "    # While loop that checks if s (seconds) reaches zero\n",
        "    # If not zero, decrement total time by one second\n",
        "    while s > 0:\n",
        " \n",
        "        # Timer represents time left on countdown\n",
        "        timer = datetime.timedelta(seconds = s)\n",
        "        \n",
        "        # Prints the time left on the timer\n",
        "        print(s, 'sec left')\n",
        " \n",
        "        # Delays the program one second\n",
        "        time.sleep(1)\n",
        " \n",
        "        # Reduces total time by one second\n",
        "        s -= 1\n",
        " \n",
        "    print(\"Ups! Your time is over!\")\n",
        "\n",
        "countdown(5)"
      ],
      "metadata": {
        "colab": {
          "base_uri": "https://localhost:8080/"
        },
        "id": "UTTK321QyB9j",
        "outputId": "f7f9f220-f543-46d1-992c-4b01194f5ce4"
      },
      "execution_count": 1,
      "outputs": [
        {
          "output_type": "stream",
          "name": "stdout",
          "text": [
            "5 sec left\n",
            "4 sec left\n",
            "3 sec left\n",
            "2 sec left\n",
            "1 sec left\n",
            "Ups! Your time is over!\n"
          ]
        }
      ]
    },
    {
      "cell_type": "markdown",
      "source": [
        "  General Q&A workflow https://asiakan.atlassian.net/browse/QUIZ-16\n"
      ],
      "metadata": {
        "id": "RUnQLDtDDme7"
      }
    },
    {
      "cell_type": "code",
      "source": [
        "2\n",
        "# general workflow without randomised sampling\n",
        "\n",
        "qa=([1, 'question1', '1. answer1-corr', '2. answer2', '3.answer3', '4.answer4', 1],[2, 'question2', 'answer2.1', 'answer2.2-corr', 'answer2.3', 'answer2.4', 2] )\n",
        "counter=0\n",
        "for i in qa:\n",
        "  for line in range (1, 6):\n",
        "     print (f\"{i[line]}\\n\")\n",
        "  answer = int(input ('Please, enter the number of the correct answer (from 1 to 4)'))\n",
        "  if answer==(i[-1]):\n",
        "    counter=counter+1\n",
        "    print (\"Correct!\\n\")\n",
        "  else:\n",
        "    print (\"Incorrect!\\n\")\n",
        "print ('your result today is', counter)\n"
      ],
      "metadata": {
        "colab": {
          "base_uri": "https://localhost:8080/"
        },
        "id": "BPxNKGc8EPjm",
        "outputId": "066cd142-9f60-4146-9e22-8659f23ce229"
      },
      "execution_count": null,
      "outputs": [
        {
          "metadata": {
            "tags": null
          },
          "name": "stdout",
          "output_type": "stream",
          "text": [
            "question1\n",
            "\n",
            "1. answer1-corr\n",
            "\n",
            "2. answer2\n",
            "\n",
            "3.answer3\n",
            "\n",
            "4.answer4\n",
            "\n",
            "Correct!\n",
            "\n",
            "question2\n",
            "\n",
            "answer2.1\n",
            "\n",
            "answer2.2-corr\n",
            "\n",
            "answer2.3\n",
            "\n",
            "answer2.4\n",
            "\n"
          ]
        }
      ]
    },
    {
      "cell_type": "markdown",
      "source": [
        "Randomize output of questions\n",
        "https://asiakan.atlassian.net/browse/QUIZ-6  "
      ],
      "metadata": {
        "id": "1IUo1TZmgRHV"
      }
    },
    {
      "cell_type": "code",
      "source": [
        "#  randomise without  timing\n",
        "qa=[[1, 'question1', '1. answer1-corr', '2. answer2', '3.answer3', '4.answer4', 1],[2, 'question2', 'answer2.1', 'answer2.2-corr', 'answer2.3', 'answer2.4', 2]]\n",
        "import random\n",
        "\n",
        "shuffled_qa = random.sample(qa, len(qa))\n",
        "counter=0\n",
        "for i in shuffled_qa:\n",
        "  for line in range (1, 6):\n",
        "     print (f\"{i[line]}\\n\")\n",
        "  answer = int(input ('Please, enter the number of the correct answer (from 1 to 4)'))\n",
        "  if answer==(i[-1]):\n",
        "    counter=counter+1\n",
        "    print (\"Correct!\\n\")\n",
        "  else:\n",
        "    print (\"Incorrect!\\n\")\n",
        "print ('your result today is', counter)"
      ],
      "metadata": {
        "id": "FbAfUBSrYK2i"
      },
      "execution_count": null,
      "outputs": []
    },
    {
      "cell_type": "markdown",
      "source": [
        "**\"Add your question\" function** - add new line in Q&A DB\n",
        "\n",
        "\n",
        "\n"
      ],
      "metadata": {
        "id": "iCNIkmQl9z-I"
      }
    },
    {
      "cell_type": "code",
      "source": [
        "# ask the user for new question+answers entry \n",
        "\"\"\"qa = []\"\"\"\n",
        "def add_qa():\n",
        "  new_qa=[input(\"Please enter the text of the question\")]\n",
        "  print('Now please enter 4 varians of answers one by one. Press enter after each variant')\n",
        "  for answer in range(4):\n",
        "     new_qa.append(input())\n",
        "  new_qa.append(input('Now please enter the number of correct answer (1 to 4)')) \n",
        "  print (new_qa)\n",
        "# add new entry to existing QA DB\n",
        "  order_number=len(qa)+1\n",
        "  new_qa.append(order_number)\n",
        "  qa.append(new_qa)\n",
        "add_qa()\n",
        "print (qa)\n"
      ],
      "metadata": {
        "id": "MKrKQidL99jC"
      },
      "execution_count": null,
      "outputs": []
    },
    {
      "cell_type": "markdown",
      "source": [
        "\n",
        "**Player results DB**\n",
        "\n",
        "Name - player_res\n",
        "\n",
        "Fields\n",
        "\n",
        "- UserID\n",
        "\n",
        "- Nick - string\n",
        "\n",
        "- Nr of correct answers in the session - integer\n",
        "\n",
        "- Date and time of the game/session - date  -- ?? time output format\n",
        "\n",
        "\n",
        "\n"
      ],
      "metadata": {
        "id": "IJvxDa1Tuunw"
      }
    },
    {
      "cell_type": "code",
      "source": [
        "print (qa)\n"
      ],
      "metadata": {
        "id": "DkROMbyhu09J",
        "colab": {
          "base_uri": "https://localhost:8080/"
        },
        "outputId": "432749a5-252b-4cdc-dde4-b8905b56860c"
      },
      "execution_count": null,
      "outputs": [
        {
          "output_type": "stream",
          "name": "stdout",
          "text": [
            "[[' What is the meaning of life?', '42', 'Friendship', 'Love', '35', '1', 1], ['What are the 6 countries with German as an offical language?', 'Germany, Austria, Switzerland, Liechtenstein, Luxembourg, Belgium', 'Germany, France, Switzerland, Belgium, Luxembourg,Denmark', 'Denmark, Germany, Luxembourg, Switzerland, Norway, Sweden', 'Germany, France, Sweden, Austria, Luxembourg,Belgium', '1', 2], ['What is the largest mammal on earth?', 'The Antartic Whale', 'The giant squid', 'The Blue Whale', 'Orca', '1', 3], ['What is the most spoken language in the world?', 'English', 'Chinese', 'Arabic', 'Hindi', '1', 4], [' What is the smallest country in the world?', 'Vatican City', 'Monaco', 'San Marino', 'Tuvalu', '1', 5], ['What is the Sixth Sense?', 'A movie', 'A song', 'Love', 'A burger', '1', 6]]\n"
          ]
        }
      ]
    },
    {
      "cell_type": "markdown",
      "source": [
        "[[' What is the meaning of life?', '42', 'Friendship', 'Love', '35', '1', 1], ['What are the 6 countries with German as an offical language?', 'Germany, Austria, Switzerland, Liechtenstein, Luxembourg, Belgium', 'Germany, France, Switzerland, Belgium, Luxembourg,Denmark', 'Denmark, Germany, Luxembourg, Switzerland, Norway, Sweden', 'Germany, France, Sweden, Austria, Luxembourg,Belgium', '1', 2], ['What is the largest mammal on earth?', 'The Antartic Whale', 'The giant squid', 'The Blue Whale', 'Orca', '1', 3], ['What is the most spoken language in the world?', 'English', 'Chinese', 'Arabic', 'Hindi', '1', 4], [' What is the smallest country in the world?', 'Vatican City', 'Monaco', 'San Marino', 'Tuvalu', '1', 5], ['What is the Sixth Sense?', 'A movie', 'A song', 'Love', 'A burger', '1', 6]]\n"
      ],
      "metadata": {
        "id": "KEhvHNiSzej8"
      }
    },
    {
      "cell_type": "markdown",
      "source": [
        "\n",
        "\n"
      ],
      "metadata": {
        "id": "OTppYtPmzbnI"
      }
    },
    {
      "cell_type": "markdown",
      "source": [
        "timer integration"
      ],
      "metadata": {
        "id": "MhMLgNLZ8tQJ"
      }
    },
    {
      "cell_type": "code",
      "source": [
        "userid='userid' # temporal var\n",
        "nick='nick' # temporal var\n",
        "player_res=[]\n",
        "qa=([1, 'question1', '1. answer1-corr', '2. answer2', '3.answer3', '4.answer4', 1],[2, 'question2', 'answer2.1', 'answer2.2-corr', 'answer2.3', 'answer2.4', 2] )\n",
        "counter=0\n",
        "\n",
        "\n",
        "import time \n",
        "timelim =5 \n",
        "t_end = time.time() + timelim \n",
        "\n",
        "while time.time() < t_end: \n",
        "  for i in qa:\n",
        "    for line in range (1, 6):\n",
        "       print (f\"{i[line]}\\n\")\n",
        "    answer = int(input ('Please, enter the number of the correct answer (from 1 to 4)'))\n",
        "    if answer==(i[-1]):\n",
        "       counter=counter+1\n",
        "       print (\"Correct!\\n\")\n",
        "    else:\n",
        "       print (\"Incorrect!\\n\") \n",
        "        \n",
        "print ('Time is over! Your result in this game is', counter)\n",
        "player_res.append([userid, nick, counter, t_end]) \n",
        "print (player_res)"
      ],
      "metadata": {
        "id": "qlu_qYzn8xoh",
        "colab": {
          "base_uri": "https://localhost:8080/"
        },
        "outputId": "11a04320-fede-419b-c930-3cebb930d5b2"
      },
      "execution_count": null,
      "outputs": [
        {
          "output_type": "stream",
          "name": "stdout",
          "text": [
            "question1\n",
            "\n",
            "1. answer1-corr\n",
            "\n",
            "2. answer2\n",
            "\n",
            "3.answer3\n",
            "\n",
            "4.answer4\n",
            "\n",
            "Please, enter the number of the correct answer (from 1 to 4)1\n",
            "Correct!\n",
            "\n",
            "question2\n",
            "\n",
            "answer2.1\n",
            "\n",
            "answer2.2-corr\n",
            "\n",
            "answer2.3\n",
            "\n",
            "answer2.4\n",
            "\n",
            "Please, enter the number of the correct answer (from 1 to 4)1\n",
            "Incorrect!\n",
            "\n",
            "Time is over! Your result in this game is 1\n",
            "[['userid', 'nick', 1, 1681924179.3806686]]\n"
          ]
        }
      ]
    }
  ]
}